{
 "cells": [
  {
   "attachments": {
    "image.png": {
     "image/png": "[encoded data removed]"
    }
   },
   "cell_type": "markdown",
   "id": "60da4279",
   "metadata": {},
   "source": [
    "# S7E3\n",
    "\n",
    "## Given the following circuit\n",
    "\n",
    "![image.png](attachment:image.png)\n",
    "\n",
    "\n",
    "### with the following known values\n",
    "#### $ I_D = I_0 ( e^\\frac{V_D}{V_T} - 1) $\n",
    "\n",
    "### $ r_D = \\frac{V_T}{I_0 e^\\frac{V_D}{V_T}} $\n",
    "\n",
    "#### $ I_0 \\approx 8*10^{-14} $\n",
    "\n",
    "#### $ V_T \\approx 26mV $\n",
    "\n",
    "#### $ R = 3.9K\\Omega $\n",
    "\n",
    "\n",
    "## Find $ V_I $ such that incremental resistance of diode is  $ 100\\Omega $\n",
    "\n",
    "## Approach / Equations (See Example 4.20 pg 225 of text)\n",
    "\n",
    "### $ I_D = I_0 ( e^\\frac{V_D}{V_T} - 1) $\n",
    "\n",
    "### Incremental resistance: $ \\frac{V_T}{I_0 e^\\frac{V_D}{V_T}} $\n",
    "\n",
    "### First do big signal analysis\n",
    "\n",
    "Find $ V_O and I_D $\n",
    "\n",
    "KVL gives you:\n",
    "  $ -V_I + I_D * R + V_O = 0 $\n",
    "  \n",
    "  $ I_D = I_0 ( e^\\frac{V_O}{V_T} - 1) $\n",
    "  \n",
    "  $ -V_I + I_0 ( e^\\frac{V_O}{V_T} - 1) * R + V_O = 0 $\n",
    "  \n",
    "  $ r_D = \\frac{V_T}{I_0 e^\\frac{V_O}{V_T}} $\n",
    "  \n",
    "\n",
    "\n",
    "\n"
   ]
  },
  {
   "cell_type": "code",
   "execution_count": 5,
   "id": "a065564d",
   "metadata": {},
   "outputs": [
    {
     "name": "stdout",
     "output_type": "stream",
     "text": [
      "V_I 10.709472747364636\n",
      "I_D 0.0002600005832657599\n",
      "Does KVL hold I_D 10.166022805691211\n"
     ]
    }
   ],
   "source": [
    "from math import e\n",
    "R = 39000\n",
    "r_D = 100\n",
    "I_0 = 8*10**(-14)\n",
    "V_T = .026\n",
    "\n",
    "# We want r_D to be 100\n",
    "# if we solve V_O for the r_D equation we get\n",
    "V_O = 0.56945\n",
    "V_I = I_0 * (e**(V_O/V_T) - 1) * R + V_O\n",
    "\n",
    "I_D = I_0 * (e**(V_O/V_T) - 1) \n",
    "\n",
    "print(\"V_I\", V_I)\n",
    "print(\"I_D\", I_D)\n",
    "\n",
    "print(\"Does KVL hold I_D\", R * I_D + I_D * 100)"
   ]
  },
  {
   "cell_type": "code",
   "execution_count": null,
   "id": "1d6697fd",
   "metadata": {},
   "outputs": [],
   "source": []
  }
 ],
 "metadata": {
  "kernelspec": {
   "display_name": "Python 3 (ipykernel)",
   "language": "python",
   "name": "python3"
  },
  "language_info": {
   "codemirror_mode": {
    "name": "ipython",
    "version": 3
   },
   "file_extension": ".py",
   "mimetype": "text/x-python",
   "name": "python",
   "nbconvert_exporter": "python",
   "pygments_lexer": "ipython3",
   "version": "3.9.6"
  }
 },
 "nbformat": 4,
 "nbformat_minor": 5
}
