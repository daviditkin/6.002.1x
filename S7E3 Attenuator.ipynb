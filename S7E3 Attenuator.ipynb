{
 "cells": [
  {
   "attachments": {
    "image.png": {
     "image/png": "[encoded data removed]"
    }
   },
   "cell_type": "markdown",
   "id": "60da4279",
   "metadata": {},
   "source": [
    "# S7E3\n",
    "\n",
    "## Given the following circuit\n",
    "\n",
    "![image.png](attachment:image.png)\n",
    "\n",
    "\n",
    "### with the following known values\n",
    "#### $ I_D = I_0 ( e^\\frac{V_D}{V_T} - 1) $\n",
    "\n",
    "#### $ I_0 \\approx 8*10^{-14} $\n",
    "\n",
    "#### $ V_T \\approx 26mV $\n",
    "\n",
    "#### $ R = 3.9K\\Omega $\n",
    "\n",
    "### By definition: $ r_D = \\frac{V_T}{I_0 e^\\frac{V_D}{V_T}} $\n",
    "\n",
    "\n",
    "## Solve $ V_I $ such that incremental resistance of diode is  $ 100\\Omega $ \n",
    "\n",
    "## Approach / Equations (See Example 4.20 pg 225 of text)\n",
    "\n",
    "### $ I_D = I_0 ( e^\\frac{V_D}{V_T} - 1) $\n",
    "\n",
    "### Incremental resistance: $ \\frac{V_T}{I_0 e^\\frac{V_D}{V_T}} $\n",
    "\n",
    "### $ V_I for R_d = 100\\Omega $\n",
    "\n",
    "Find $ V_O and I_D $\n",
    "\n",
    "  We can solve for $ V_O $ given $ r_D = \\frac{V_T}{I_0 e^\\frac{V_O}{V_T}} $ with $ r_D = 100 $\n",
    "\n",
    "  Substituting known values $ V_T = .026 $ $ I_0 = 8*10^-14 $\n",
    "\n",
    "  > $ 100 = \\frac{.026}{8*10^-14 * e^\\frac{V_O}{.026}} $\n",
    "  \n",
    "  > $ 100 * 8*10^-14 * e^\\frac{V_O}{0.026} = .026 $\n",
    "\n",
    "  > $  e^\\frac{V_O}{0.026} = \\frac{.026}{100 * 8*10^-14} $\n",
    "\n",
    "  > $  V_O = ln(\\frac{.026}{100 * 8*10^-14}) * 0.026 = 0.569450 $\n",
    "  \n",
    "  Now we can solve for $ I_D = I_0 ( e^\\frac{V_D}{V_T} - 1) $\n",
    "  \n",
    "  > $ I_D = 0.000260001 $ A\n",
    "\n",
    "KVL gives you:\n",
    "  > $ -V_I + I_D * R + V_O = 0 $\n",
    "\n",
    "  > $ V_I = 0.000260001 * 3900 + 0.569450 =  1.5834539 $\n",
    "\n",
    "## Solve $ V_I $ such that incremental resistance of diode is  $ 1000\\Omega $ \n",
    "\n",
    "### $ V_I for R_d = 1000\\Omega $\n",
    "\n",
    "Find $ V_O and I_D $\n",
    "\n",
    "  > $  V_O = ln(\\frac{.026}{1000 * 8*10^-14}) * 0.026 = 0.509583 $\n",
    "  \n",
    "  > $ I_D = I_O ( e^\\frac{V_D}{V_T} - 1)  = 0.0000260003 $\n",
    "  \n",
    "KVL gives you:\n",
    "  > $ -V_I + I_D * R + V_O = 0 $\n",
    "\n",
    "  > $ V_I = 0.000260003 * 3900 + 0.509583 =   0.6109830 $\n",
    "  \n",
    "\n",
    "\n",
    "\n"
   ]
  },
  {
   "cell_type": "code",
   "execution_count": null,
   "id": "9d7bfbfe",
   "metadata": {},
   "outputs": [],
   "source": []
  }
 ],
 "metadata": {
  "kernelspec": {
   "display_name": "Python 3 (ipykernel)",
   "language": "python",
   "name": "python3"
  },
  "language_info": {
   "codemirror_mode": {
    "name": "ipython",
    "version": 3
   },
   "file_extension": ".py",
   "mimetype": "text/x-python",
   "name": "python",
   "nbconvert_exporter": "python",
   "pygments_lexer": "ipython3",
   "version": "3.9.6"
  }
 },
 "nbformat": 4,
 "nbformat_minor": 5
}
